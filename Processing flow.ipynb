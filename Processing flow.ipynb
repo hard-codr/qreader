{
 "cells": [
  {
   "cell_type": "code",
   "execution_count": 15,
   "metadata": {},
   "outputs": [],
   "source": [
    "url = 'https://stratechery.com/2019/the-cost-of-apple-news/?utm_source=pocket&utm_medium=email&utm_campaign=pockethits'\n",
    "url = 'https://www.nytimes.com/2019/01/15/world/europe/brexit-vote-theresa-may.html'\n",
    "url = 'https://hbr.org/2019/02/why-you-should-work-less-and-spend-more-time-on-hobbies?utm_source=pocket&utm_medium=email&utm_campaign=pockethits'"
   ]
  },
  {
   "cell_type": "markdown",
   "metadata": {},
   "source": [
    "### Canonization\n",
    "Convert link to a canonized format, e.g. remote utm references, remove unncessary suffices etc"
   ]
  },
  {
   "cell_type": "code",
   "execution_count": 16,
   "metadata": {},
   "outputs": [
    {
     "name": "stdout",
     "output_type": "stream",
     "text": [
      "https://hbr.org/2019/02/why-you-should-work-less-and-spend-more-time-on-hobbies\n"
     ]
    }
   ],
   "source": [
    "import w3lib.url\n",
    "import re\n",
    "\n",
    "def canonization(url):\n",
    "    url = w3lib.url.canonicalize_url(url)\n",
    "    if \"utm_\" in url:\n",
    "        matches = re.findall(r'(.+\\?)([^#]*)(.*)', url)\n",
    "        if len(matches) > 0:\n",
    "            match = matches[0]\n",
    "            query = match[1]\n",
    "            sanitized_query = '&'.join([p for p in query.split('&') if not p.startswith('utm_')])\n",
    "            url = match[0] + sanitized_query + match[2]\n",
    "            if url.endswith('?'):\n",
    "                return url[:-1]\n",
    "    return url\n",
    "\n",
    "url = canonization(url)\n",
    "print(url)"
   ]
  },
  {
   "cell_type": "markdown",
   "metadata": {},
   "source": [
    "### Link to id\n",
    "\n",
    "Convert link to article id (possible using hash) so that we can check whether same link is present for some other users. We can resuse command properties from existing article if present."
   ]
  },
  {
   "cell_type": "code",
   "execution_count": 17,
   "metadata": {},
   "outputs": [
    {
     "name": "stdout",
     "output_type": "stream",
     "text": [
      "bbc769bb4eb547c68d26f4151cab90164edead651ef84924468482cb354ba18d\n"
     ]
    }
   ],
   "source": [
    "import hashlib\n",
    "\n",
    "def link_to_id(url):\n",
    "    url = url.encode('utf-8')\n",
    "    m = hashlib.sha256()\n",
    "    m.update(url)\n",
    "    return m.hexdigest()\n",
    "\n",
    "article_id = link_to_id(url)\n",
    "print(article_id)"
   ]
  },
  {
   "cell_type": "markdown",
   "metadata": {},
   "source": [
    "### Parse the article\n",
    "\n",
    "Using newspaper lib, parse the article. Goal is to extract the markdown and text format of the article. Not sure whether we can use the summary, authors etc that is extracted."
   ]
  },
  {
   "cell_type": "code",
   "execution_count": 27,
   "metadata": {},
   "outputs": [],
   "source": [
    "import newspaper\n",
    "import pypandoc\n",
    "\n",
    "def clean_markdown(markdown):\n",
    "    markdown = re.sub(r'{\\..*\\n*.*}', '', markdown)\n",
    "    markdown = re.sub(r'{#.*\\n*.*}', '', markdown)\n",
    "    return markdown\n",
    "\n",
    "def is_failed(text):\n",
    "    text = text.lower()\n",
    "    if 'make sure your browser supports javascript' in text:\n",
    "        return True\n",
    "    return False\n",
    "\n",
    "def extract_article(url):\n",
    "    article = newspaper.Article(url=url, keep_article_html=True)\n",
    "    try:\n",
    "        article.download()\n",
    "        article.parse()\n",
    "        article.nlp()\n",
    "\n",
    "        if is_failed(article.summary):\n",
    "            print('Parsing failed')\n",
    "            return ('', '', [])\n",
    "    except Exception as e:\n",
    "        print('Error occurred', e)\n",
    "        return ('', '', [])\n",
    "\n",
    "    article_html = article.article_html.strip()\n",
    "    if article_html.startswith('<div>'):\n",
    "        article_html = article_html[len('<div>'):-len('</div>')]\n",
    "\n",
    "    article_md = pypandoc.convert_text(article_html, 'md', format='html')\n",
    "    article_md = clean_markdown(article_md)\n",
    "    \n",
    "    article_txt = pypandoc.convert_text(article_html, 'asciidoc', format='html')\n",
    "\n",
    "    def lx(l): return set(l) if l else set([])\n",
    "\n",
    "    keywords = lx(article.keywords).union(lx(article.tags))\n",
    "    keywords = [k.lower() for k in keywords]\n",
    "    \n",
    "    return (article_html, article_md, article_txt, keywords)\n",
    "\n",
    "r = extract_article(url)"
   ]
  },
  {
   "cell_type": "code",
   "execution_count": 29,
   "metadata": {
    "scrolled": false
   },
   "outputs": [
    {
     "name": "stdout",
     "output_type": "stream",
     "text": [
      "As professionals around the world feel increasingly pressed for time,\n",
      "they’re giving up on things that matter to them. A recent HBR article\n",
      "noted that in surveys, most people “could name several activities, such\n",
      "as pursuing a hobby, that they’d like to have time for.” This is more\n",
      "significant than it may sound, because it isn’t just individuals who are\n",
      "missing out. When people don’t have time for hobbies, businesses pay a\n",
      "price. Hobbies can make employees substantially better at their jobs for\n",
      "three reasons: they reawaken your creativity, give you a fresh\n",
      "perspective, and bolster your confidence.\n",
      "\n",
      "![](/resources/images/article_assets/2019/02/Feb19_07_682304925.jpg) Tara Moore/Getty\n",
      "Images\n",
      "\n",
      "As professionals around the world feel increasingly pressed for time,\n",
      "they’re giving up on things that matter to them. A recent HBR\n",
      "[article](/cover-story/2019/01/time-for-happiness) noted that in\n",
      "surveys, most people “could name several activities, such as pursuing a\n",
      "hobby, that they’d like to have time for.”\n",
      "\n",
      "This is more significant than it may sound, because it isn’t just\n",
      "individuals who are missing out. When people don’t have time for\n",
      "hobbies, businesses pay a price. Hobbies can make workers substantially\n",
      "better at their jobs. I know this from personal experience. I’ve always\n",
      "[loved](https://officialgaetano.com/) playing the guitar and composing.\n",
      "But just like workers everywhere, I can fall into the trap of feeling\n",
      "that I have no time to engage in it. As head of demand generation for\n",
      "Nextiva, I have enough on my plate to keep me busy around the clock. I\n",
      "can easily fall into the trap of the “[72-hour\n",
      "workweek](/2013/09/welcome-to-the-72-hour-work-we),” which takes into\n",
      "account time people spend connected to work on our phones outside of\n",
      "official work hours.\n",
      "\n",
      "When I crash, there’s always the temptation to do something sedentary\n",
      "and mindless. It’s little surprise that watching TV is by far the most\n",
      "popular use of leisure time [in the\n",
      "U.S.](https://www.bls.gov/charts/american-time-use/activity-leisure-by-sex.htm)\n",
      "and tops the list elsewhere as well, including\n",
      "[Germany](https://www.dw.com/en/tv-tops-germanys-most-popular-leisure-activities/a-45371410)\n",
      "and\n",
      "[England](https://www.statista.com/statistics/553674/free-time-activities-adult-participation-uk-england/).\n",
      "\n",
      "But by spending time on music, I boost some of my most important\n",
      "workplace skills.\n",
      "\n",
      "**Creativity.** To stand out and compete in today’s crowded and\n",
      "constantly changing business environment, organizations need new,\n",
      "innovative ideas that will rise above the noise. I’m tasked with\n",
      "constantly looking for new ways to attract attention from potential\n",
      "buyers. But coming up with a fully original idea can be difficult when\n",
      "your mind is filled with targets, metrics, and deadlines.\n",
      "\n",
      "A creative hobby pulls you out of all that. Whether you’re a musician,\n",
      "artist, writer, or cook, you often start with a blank canvas in your\n",
      "mind. You simply think: What will I create that will evoke the emotion\n",
      "I’m going for?\n",
      "\n",
      "It’s no surprise that by giving yourself this mental space, and focusing\n",
      "on feelings, you can reawaken your creativity. Neuroscientists have\n",
      "[found](/2015/12/how-to-free-your-innate-creativity) that rational\n",
      "thought and emotions involve different parts of the brain. For the\n",
      "floodgates of creativity to open, both must be in play.\n",
      "\n",
      "**Perspective.** One of the trickiest tasks in the creative process is\n",
      "thinking through how someone else would experience your idea. But in\n",
      "doing creative hobbies, people think that way all the time. A potter\n",
      "imagines how the recipient of a vase would respond to it. A mystery\n",
      "novelist considers whether an unsuspecting reader will be surprised by a\n",
      "plot twist.\n",
      "\n",
      "When I take a break from work to go make music, I reconnect with that\n",
      "perspective. I keep thinking about how someone hearing my song for the\n",
      "first time might respond. I do all I can to see (or hear) the world\n",
      "[through someone else’s\n",
      "eyes](/2012/11/train-your-people-to-take-others-perspectives) (or ears).\n",
      "Then, when I resume the work project, I take that mentality with me.\n",
      "\n",
      "**Confidence.** When I face a tough challenge at work and feel stymied,\n",
      "I can start to question whether I’ll ever figure out a successful\n",
      "solution. It’s easy to lose [creative\n",
      "confidence](https://ideas.ted.com/david-kelley-on-the-need-for-creative-confidence/).\n",
      "But after an hour of shredding on the guitar, hitting notes perfectly,\n",
      "I’m feeling good. I can tell that my brain was craving that kind of\n",
      "satisfaction. And when I face that work project again, I bring the\n",
      "confidence with me.\n",
      "\n",
      "It turns out people like me have been studied. In one study, researchers\n",
      "[found](https://onlinelibrary.wiley.com/doi/full/10.1111/joop.12064)\n",
      "that “creative activity was positively associated with recovery\n",
      "experiences (i.e., mastery, control, and relaxation) and\n",
      "performance‐related outcomes (i.e., job creativity and extra‐role\n",
      "behaviors).” In fact, they wrote, “Creative activity while away from\n",
      "work may be a leisure activity that provides employees essential\n",
      "resources to perform at a high level.”\n",
      "\n",
      "So to my fellow professionals, I highly recommend taking some time to\n",
      "keep up your creative hobby. It doesn’t have to be long. A\n",
      "[study](https://newsblog.drexel.edu/2016/09/16/study-just-45-minutes-of-art-making-improves-self-confidence/)\n",
      "found that spending 45 minutes making art helps boost someone’s\n",
      "confidence and ability to complete tasks.\n",
      "\n",
      "I also suggest you encourage your business to celebrate employees’\n",
      "hobbies. Zappos [puts employee\n",
      "artwork](https://www.skyword.com/contentstandard/creativity/4-ways-zappos-organizational-culture-inspires-creativity/)\n",
      "up on its walls and encourages people to decorate their desks in\n",
      "whatever ways they wish. Some businesses [hold talent\n",
      "shows](https://smallbusiness.chron.com/funny-corporate-talent-show-ideas-18482.html).\n",
      "Even employees who may not have these kinds of talents should be\n",
      "encouraged to do something that feels creative and fun. Some CEOs spend\n",
      "time [on their own\n",
      "hobbies](/2018/10/why-ceos-devote-so-much-time-to-their-hobbies),\n",
      "setting the right example.\n",
      "\n",
      "And when you find a little time for a creative hobby break, make it\n",
      "guilt free. After all, when you do this, everyone stands to gain.\n",
      "\n"
     ]
    }
   ],
   "source": [
    "print r[1]"
   ]
  },
  {
   "cell_type": "code",
   "execution_count": 119,
   "metadata": {},
   "outputs": [],
   "source": [
    "txt = r[1]"
   ]
  },
  {
   "cell_type": "code",
   "execution_count": 134,
   "metadata": {},
   "outputs": [
    {
     "name": "stdout",
     "output_type": "stream",
     "text": [
      "[u'parliament', u'process', u'crushing', u'votes', u'minister', u'vote', u'prime', u'brexit', u'uncertain', u'withdrawing', u'face', u'future', u'withdraw', u'defeat', u'weeks', u'european']\n"
     ]
    }
   ],
   "source": [
    "print r[3]"
   ]
  },
  {
   "cell_type": "code",
   "execution_count": 22,
   "metadata": {},
   "outputs": [],
   "source": [
    "import textacy\n",
    "\n",
    "txt1 = u\"\"\"\n",
    "It's Monday, the dreadful countdown has started. You're already thinking about the end of the week, and it barely started. As the days go by, you are fixated on Friday 5pm. By Friday afternoon, your mind is so overfilled with the prospect of the two-day break that you can barely get anything done anymore. Some of your co-workers are not even at their desks anymore; they left early. When it's your turn to leave, you breathe a sigh of relief. It's the moment you've been waiting for. The start of the weekend.\n",
    "\n",
    "However, what's so odd is that it's already Monday again. The weekend was a blur. Everything that didn't fit the workday was squeezed into the weekend. Groceries, laundry, chores, medical appointments and so on. By the time you've finished all that it's Sunday evening. Just like work, the weekend made you tired. You want to idle, but tomorrow's Monday and you've already begun thinking about work. You don't have time to do anything anymore because you need to sleep early to wake up for work on time.\n",
    "\"\"\""
   ]
  },
  {
   "cell_type": "code",
   "execution_count": 23,
   "metadata": {},
   "outputs": [],
   "source": [
    "txt = textacy.preprocess_text(txt1, lowercase=True, no_punct=True, no_urls=True, no_emails=True, no_phone_numbers=True, no_numbers=True, no_contractions=True)"
   ]
  },
  {
   "cell_type": "code",
   "execution_count": 24,
   "metadata": {},
   "outputs": [
    {
     "name": "stdout",
     "output_type": "stream",
     "text": [
      "it s monday the dreadful countdown has started you are already thinking about the end of the week and it barely started as the days go by you are fixated on friday 5pm by friday afternoon your mind is so overfilled with the prospect of the two day break that you can barely get anything done anymore some of your co workers are not even at their desks anymore they left early when it s your turn to leave you breathe a sigh of relief it s the moment you have been waiting for the start of the weekend however what s so odd is that it s already monday again the weekend was a blur everything that did not fit the workday was squeezed into the weekend groceries laundry chores medical appointments and so on by the time you have finished all that it s sunday evening just like work the weekend made you tired you want to idle but tomorrow s monday and you have already begun thinking about work you do not have time to do anything anymore because you need to sleep early to wake up for work on time\n"
     ]
    }
   ],
   "source": [
    "print txt"
   ]
  },
  {
   "cell_type": "code",
   "execution_count": 26,
   "metadata": {},
   "outputs": [],
   "source": [
    "doc = textacy.Doc(txt, lang=u'en')"
   ]
  },
  {
   "cell_type": "code",
   "execution_count": 27,
   "metadata": {},
   "outputs": [
    {
     "data": {
      "text/plain": [
       "[monday,\n",
       " end of the week,\n",
       " friday 5pm,\n",
       " friday,\n",
       " afternoon,\n",
       " two day,\n",
       " start of the weekend,\n",
       " monday,\n",
       " weekend,\n",
       " weekend,\n",
       " sunday,\n",
       " evening,\n",
       " weekend]"
      ]
     },
     "execution_count": 27,
     "metadata": {},
     "output_type": "execute_result"
    }
   ],
   "source": [
    "list(textacy.extract.named_entities(doc))"
   ]
  },
  {
   "cell_type": "code",
   "execution_count": 43,
   "metadata": {},
   "outputs": [
    {
     "data": {
      "text/plain": [
       "[(u'weekend', 0.08097662938118627),\n",
       " (u'monday', 0.05164902855670848),\n",
       " (u'day', 0.04818167258919268),\n",
       " (u'friday', 0.03879800635707472),\n",
       " (u'time', 0.03506380177753061),\n",
       " (u'desk', 0.027897214786210996),\n",
       " (u'turn', 0.027887739263186346),\n",
       " (u'worker', 0.027664081063982205),\n",
       " (u'sigh', 0.027641401070913483),\n",
       " (u'co', 0.027114361874702838)]"
      ]
     },
     "execution_count": 43,
     "metadata": {},
     "output_type": "execute_result"
    }
   ],
   "source": [
    "textacy.keyterms.textrank(doc, normalize='lemma', n_keyterms=10)"
   ]
  },
  {
   "cell_type": "code",
   "execution_count": 42,
   "metadata": {},
   "outputs": [
    {
     "data": {
      "text/plain": [
       "[(u'laundry chores medical appointments', 0.1699350676097159),\n",
       " (u'monday', 0.12129439765330248),\n",
       " (u'friday afternoon your mind', 0.11455718853607658),\n",
       " (u'groceries laundry chores medical', 0.09482761805609785),\n",
       " (u'weekend groceries laundry chores', 0.06607233607247258),\n",
       " (u'dreadful countdown', 0.05516403134445235),\n",
       " (u'co workers', 0.04478560298415586),\n",
       " (u'day break', 0.041029524939625),\n",
       " (u'days', 0.02139083074833643),\n",
       " (u'pm', 0.02052379973416223),\n",
       " (u'prospect', 0.019230783488795745),\n",
       " (u'sunday evening', 0.018948361375412625),\n",
       " (u'time', 0.018523952527400175),\n",
       " (u'weekend', 0.0180801644145477),\n",
       " (u'moment', 0.016982582819967573),\n",
       " (u'relief', 0.016860373322372023),\n",
       " (u'odd', 0.01682895300579131),\n",
       " (u'blur', 0.01682000176057459),\n",
       " (u'start', 0.01658340687760984),\n",
       " (u'desks', 0.01639140781837948)]"
      ]
     },
     "execution_count": 42,
     "metadata": {},
     "output_type": "execute_result"
    }
   ],
   "source": [
    "textacy.keyterms.sgrank(doc, ngrams=(1, 2, 3, 4), normalize='lower', n_keyterms=0.1)"
   ]
  },
  {
   "cell_type": "code",
   "execution_count": 30,
   "metadata": {},
   "outputs": [],
   "source": [
    "ts = textacy.TextStats(doc)"
   ]
  },
  {
   "cell_type": "code",
   "execution_count": 31,
   "metadata": {},
   "outputs": [
    {
     "data": {
      "text/plain": [
       "195"
      ]
     },
     "execution_count": 31,
     "metadata": {},
     "output_type": "execute_result"
    }
   ],
   "source": [
    "ts.n_words"
   ]
  },
  {
   "cell_type": "code",
   "execution_count": 32,
   "metadata": {},
   "outputs": [
    {
     "data": {
      "text/plain": [
       "14.68769230769231"
      ]
     },
     "execution_count": 32,
     "metadata": {},
     "output_type": "execute_result"
    }
   ],
   "source": [
    "ts.flesch_kincaid_grade_level"
   ]
  },
  {
   "cell_type": "code",
   "execution_count": 33,
   "metadata": {},
   "outputs": [
    {
     "data": {
      "text/plain": [
       "{u'automated_readability_index': 17.465538461538465,\n",
       " u'coleman_liau_index': 7.65347268205128,\n",
       " u'flesch_kincaid_grade_level': 14.68769230769231,\n",
       " u'flesch_reading_ease': 59.22230769230771,\n",
       " u'gulpease_index': 55.51282051282051,\n",
       " u'gunning_fog_index': 17.035897435897436,\n",
       " u'lix': 57.97435897435898,\n",
       " u'smog_index': 9.888512548439397,\n",
       " u'wiener_sachtextformel': 6.3195435897435885}"
      ]
     },
     "execution_count": 33,
     "metadata": {},
     "output_type": "execute_result"
    }
   ],
   "source": [
    "ts.readability_stats"
   ]
  },
  {
   "cell_type": "code",
   "execution_count": 51,
   "metadata": {},
   "outputs": [],
   "source": [
    "statements = textacy.extract.semistructured_statements(doc, 'monday')\n",
    "for s in statements:\n",
    "    print s"
   ]
  },
  {
   "cell_type": "code",
   "execution_count": 52,
   "metadata": {},
   "outputs": [
    {
     "name": "stdout",
     "output_type": "stream",
     "text": [
      "monday\n",
      "end of the week\n",
      "friday 5pm\n",
      "friday\n",
      "afternoon\n",
      "two day\n",
      "start of the weekend\n",
      "monday\n",
      "weekend\n",
      "weekend\n",
      "sunday\n",
      "evening\n",
      "weekend\n"
     ]
    }
   ],
   "source": [
    "ents = textacy.extract.named_entities(doc)\n",
    "for ent in ents:\n",
    "    print ent"
   ]
  },
  {
   "cell_type": "code",
   "execution_count": 55,
   "metadata": {},
   "outputs": [],
   "source": [
    "textrank = textacy.keyterms.textrank(doc)"
   ]
  },
  {
   "cell_type": "code",
   "execution_count": 57,
   "metadata": {},
   "outputs": [
    {
     "name": "stdout",
     "output_type": "stream",
     "text": [
      "[(u'weekend', 0.08097662938118627), (u'monday', 0.05164902855670848), (u'day', 0.04818167258919268), (u'friday', 0.03879800635707472), (u'time', 0.03506380177753061), (u'desk', 0.027897214786210996), (u'turn', 0.027887739263186346), (u'worker', 0.027664081063982205), (u'sigh', 0.027641401070913483), (u'co', 0.027114361874702838)]\n"
     ]
    }
   ],
   "source": [
    "print textrank"
   ]
  },
  {
   "cell_type": "code",
   "execution_count": 61,
   "metadata": {},
   "outputs": [
    {
     "name": "stdout",
     "output_type": "stream",
     "text": [
      "(u'weekend', 0.08097662938118627)\n",
      "(u'monday', 0.05164902855670848)\n",
      "(u'day', 0.04818167258919268)\n",
      "(u'friday', 0.03879800635707472)\n",
      "(u'time', 0.03506380177753061)\n",
      "(u'desk', 0.027897214786210996)\n",
      "(u'turn', 0.027887739263186346)\n",
      "(u'worker', 0.027664081063982205)\n"
     ]
    }
   ],
   "source": [
    "ns = textacy.keyterms.key_terms_from_semantic_network(doc, join_key_words=True)\n",
    "for n in ns:\n",
    "    print n"
   ]
  },
  {
   "cell_type": "code",
   "execution_count": 36,
   "metadata": {
    "scrolled": true
   },
   "outputs": [],
   "source": [
    "import textacy.lexicon_methods\n",
    "\n",
    "r = textacy.lexicon_methods.emotional_valence(doc.tokens)"
   ]
  },
  {
   "cell_type": "code",
   "execution_count": 39,
   "metadata": {},
   "outputs": [
    {
     "name": "stdout",
     "output_type": "stream",
     "text": [
      "AFRAID 0.1093850104\n",
      "ANGRY 0.11387720775\n",
      "ANNOYED 0.120148705723\n",
      "SAD 0.126134382228\n",
      "DONT_CARE 0.129405291891\n",
      "AMUSED 0.131473752158\n",
      "INSPIRED 0.147904499604\n",
      "HAPPY 0.123881667119\n"
     ]
    }
   ],
   "source": [
    "for k, v in r.iteritems():\n",
    "    print k, v"
   ]
  },
  {
   "cell_type": "code",
   "execution_count": 131,
   "metadata": {},
   "outputs": [
    {
     "data": {
      "text/plain": [
       "defaultdict(float,\n",
       "            {'AFRAID': 0.12476944952500002,\n",
       "             'AMUSED': 0.12697590541249992,\n",
       "             'ANGRY': 0.12105484752499998,\n",
       "             'ANNOYED': 0.13344697778749998,\n",
       "             'DONT_CARE': 0.12488479982499998,\n",
       "             'HAPPY': 0.12623712858749997,\n",
       "             'INSPIRED': 0.11847041011249995,\n",
       "             'SAD': 0.12416048125000001})"
      ]
     },
     "execution_count": 131,
     "metadata": {},
     "output_type": "execute_result"
    }
   ],
   "source": [
    "textacy.lexicon_methods.emotional_valence(doc.tokens)"
   ]
  },
  {
   "cell_type": "code",
   "execution_count": 13,
   "metadata": {},
   "outputs": [],
   "source": [
    "txt1 = u\"\"\"\n",
    "At least 157 miners died and more than 200 remain trapped underground after an explosion and fire in a coal mine in the western Turkish province of Manisa on Tuesday, May 13, officials said. Rescue workers are trying desperately to reach the scores of trapped miners and have managed to evacuate around 50. An explosion at the mine was believed to have been triggered by a faulty electrical transformer. Fire officials pumped clean air into the mine shaft for the survivors, many of whom are stuck in an area 4 kilometers from the entrance.\n",
    "\"\"\""
   ]
  },
  {
   "cell_type": "code",
   "execution_count": 17,
   "metadata": {},
   "outputs": [
    {
     "ename": "ImportError",
     "evalue": "cannot import name viewkeys",
     "output_type": "error",
     "traceback": [
      "\u001b[0;31m---------------------------------------------------------------------------\u001b[0m",
      "\u001b[0;31mImportError\u001b[0m                               Traceback (most recent call last)",
      "\u001b[0;32m<ipython-input-17-eea7cef649d5>\u001b[0m in \u001b[0;36m<module>\u001b[0;34m()\u001b[0m\n\u001b[0;32m----> 1\u001b[0;31m \u001b[0;32mimport\u001b[0m \u001b[0mtextacy\u001b[0m\u001b[0;34m\u001b[0m\u001b[0m\n\u001b[0m\u001b[1;32m      2\u001b[0m \u001b[0mtxt1\u001b[0m \u001b[0;34m=\u001b[0m \u001b[0mtextacy\u001b[0m\u001b[0;34m.\u001b[0m\u001b[0mpreprocess\u001b[0m\u001b[0;34m.\u001b[0m\u001b[0mreplace_urls\u001b[0m\u001b[0;34m(\u001b[0m\u001b[0mtxt1\u001b[0m\u001b[0;34m)\u001b[0m\u001b[0;34m\u001b[0m\u001b[0m\n\u001b[1;32m      3\u001b[0m \u001b[0mtxt1\u001b[0m \u001b[0;34m=\u001b[0m \u001b[0mtextacy\u001b[0m\u001b[0;34m.\u001b[0m\u001b[0mpreprocess\u001b[0m\u001b[0;34m.\u001b[0m\u001b[0mreplace_emails\u001b[0m\u001b[0;34m(\u001b[0m\u001b[0mtxt1\u001b[0m\u001b[0;34m)\u001b[0m\u001b[0;34m\u001b[0m\u001b[0m\n\u001b[1;32m      4\u001b[0m \u001b[0mtxt1\u001b[0m \u001b[0;34m=\u001b[0m \u001b[0mtextacy\u001b[0m\u001b[0;34m.\u001b[0m\u001b[0mpreprocess_text\u001b[0m\u001b[0;34m(\u001b[0m\u001b[0mtxt1\u001b[0m\u001b[0;34m,\u001b[0m \u001b[0mlowercase\u001b[0m\u001b[0;34m=\u001b[0m\u001b[0mTrue\u001b[0m\u001b[0;34m,\u001b[0m \u001b[0mno_punct\u001b[0m\u001b[0;34m=\u001b[0m\u001b[0mTrue\u001b[0m\u001b[0;34m)\u001b[0m\u001b[0;34m\u001b[0m\u001b[0m\n",
      "\u001b[0;32m/home/swapnil/Development/qReader/venv/local/lib/python2.7/site-packages/textacy/__init__.py\u001b[0m in \u001b[0;36m<module>\u001b[0;34m()\u001b[0m\n\u001b[1;32m     23\u001b[0m \u001b[0;34m\u001b[0m\u001b[0m\n\u001b[1;32m     24\u001b[0m \u001b[0;32mfrom\u001b[0m \u001b[0mtextacy\u001b[0m\u001b[0;34m.\u001b[0m\u001b[0mcache\u001b[0m \u001b[0;32mimport\u001b[0m \u001b[0mload_spacy\u001b[0m\u001b[0;34m\u001b[0m\u001b[0m\n\u001b[0;32m---> 25\u001b[0;31m \u001b[0;32mfrom\u001b[0m \u001b[0mtextacy\u001b[0m\u001b[0;34m.\u001b[0m\u001b[0mpreprocess\u001b[0m \u001b[0;32mimport\u001b[0m \u001b[0mpreprocess_text\u001b[0m\u001b[0;34m\u001b[0m\u001b[0m\n\u001b[0m\u001b[1;32m     26\u001b[0m \u001b[0;32mfrom\u001b[0m \u001b[0mtextacy\u001b[0m\u001b[0;34m.\u001b[0m\u001b[0mdoc\u001b[0m \u001b[0;32mimport\u001b[0m \u001b[0mDoc\u001b[0m\u001b[0;34m\u001b[0m\u001b[0m\n\u001b[1;32m     27\u001b[0m \u001b[0;32mfrom\u001b[0m \u001b[0mtextacy\u001b[0m\u001b[0;34m.\u001b[0m\u001b[0mcorpus\u001b[0m \u001b[0;32mimport\u001b[0m \u001b[0mCorpus\u001b[0m\u001b[0;34m\u001b[0m\u001b[0m\n",
      "\u001b[0;32m/home/swapnil/Development/qReader/venv/local/lib/python2.7/site-packages/textacy/preprocess.py\u001b[0m in \u001b[0;36m<module>\u001b[0;34m()\u001b[0m\n\u001b[1;32m     11\u001b[0m \u001b[0;32mimport\u001b[0m \u001b[0municodedata\u001b[0m\u001b[0;34m\u001b[0m\u001b[0m\n\u001b[1;32m     12\u001b[0m \u001b[0;34m\u001b[0m\u001b[0m\n\u001b[0;32m---> 13\u001b[0;31m \u001b[0;32mfrom\u001b[0m \u001b[0mftfy\u001b[0m \u001b[0;32mimport\u001b[0m \u001b[0mfix_text\u001b[0m\u001b[0;34m\u001b[0m\u001b[0m\n\u001b[0m\u001b[1;32m     14\u001b[0m \u001b[0;32mfrom\u001b[0m \u001b[0munidecode\u001b[0m \u001b[0;32mimport\u001b[0m \u001b[0munidecode\u001b[0m\u001b[0;34m\u001b[0m\u001b[0m\n\u001b[1;32m     15\u001b[0m \u001b[0;34m\u001b[0m\u001b[0m\n",
      "\u001b[0;32m/home/swapnil/Development/qReader/venv/local/lib/python2.7/site-packages/ftfy/__init__.pyc\u001b[0m in \u001b[0;36m<module>\u001b[0;34m()\u001b[0m\n\u001b[1;32m     10\u001b[0m \u001b[0;32mimport\u001b[0m \u001b[0municodedata\u001b[0m\u001b[0;34m\u001b[0m\u001b[0m\n\u001b[1;32m     11\u001b[0m \u001b[0;32mimport\u001b[0m \u001b[0mftfy\u001b[0m\u001b[0;34m.\u001b[0m\u001b[0mbad_codecs\u001b[0m\u001b[0;34m\u001b[0m\u001b[0m\n\u001b[0;32m---> 12\u001b[0;31m \u001b[0;32mfrom\u001b[0m \u001b[0mftfy\u001b[0m \u001b[0;32mimport\u001b[0m \u001b[0mfixes\u001b[0m\u001b[0;34m\u001b[0m\u001b[0m\n\u001b[0m\u001b[1;32m     13\u001b[0m \u001b[0;32mfrom\u001b[0m \u001b[0mftfy\u001b[0m\u001b[0;34m.\u001b[0m\u001b[0mformatting\u001b[0m \u001b[0;32mimport\u001b[0m \u001b[0mdisplay_ljust\u001b[0m\u001b[0;34m\u001b[0m\u001b[0m\n\u001b[1;32m     14\u001b[0m \u001b[0;32mfrom\u001b[0m \u001b[0mftfy\u001b[0m\u001b[0;34m.\u001b[0m\u001b[0mcompatibility\u001b[0m \u001b[0;32mimport\u001b[0m \u001b[0mis_printable\u001b[0m\u001b[0;34m\u001b[0m\u001b[0m\n",
      "\u001b[0;32m/home/swapnil/Development/qReader/venv/local/lib/python2.7/site-packages/ftfy/fixes.py\u001b[0m in \u001b[0;36m<module>\u001b[0;34m()\u001b[0m\n\u001b[1;32m     16\u001b[0m \u001b[0;32mfrom\u001b[0m \u001b[0mftfy\u001b[0m\u001b[0;34m.\u001b[0m\u001b[0mbadness\u001b[0m \u001b[0;32mimport\u001b[0m \u001b[0mtext_cost\u001b[0m\u001b[0;34m\u001b[0m\u001b[0m\n\u001b[1;32m     17\u001b[0m \u001b[0;32mfrom\u001b[0m \u001b[0mftfy\u001b[0m\u001b[0;34m.\u001b[0m\u001b[0mcompatibility\u001b[0m \u001b[0;32mimport\u001b[0m \u001b[0munichr\u001b[0m\u001b[0;34m\u001b[0m\u001b[0m\n\u001b[0;32m---> 18\u001b[0;31m \u001b[0;32mfrom\u001b[0m \u001b[0mhtml5lib\u001b[0m\u001b[0;34m.\u001b[0m\u001b[0mconstants\u001b[0m \u001b[0;32mimport\u001b[0m \u001b[0mentities\u001b[0m\u001b[0;34m\u001b[0m\u001b[0m\n\u001b[0m\u001b[1;32m     19\u001b[0m \u001b[0;34m\u001b[0m\u001b[0m\n\u001b[1;32m     20\u001b[0m \u001b[0;34m\u001b[0m\u001b[0m\n",
      "\u001b[0;32m/home/swapnil/Development/qReader/venv/local/lib/python2.7/site-packages/html5lib/__init__.py\u001b[0m in \u001b[0;36m<module>\u001b[0;34m()\u001b[0m\n\u001b[1;32m     23\u001b[0m \u001b[0;32mfrom\u001b[0m \u001b[0m__future__\u001b[0m \u001b[0;32mimport\u001b[0m \u001b[0mabsolute_import\u001b[0m\u001b[0;34m,\u001b[0m \u001b[0mdivision\u001b[0m\u001b[0;34m,\u001b[0m \u001b[0municode_literals\u001b[0m\u001b[0;34m\u001b[0m\u001b[0m\n\u001b[1;32m     24\u001b[0m \u001b[0;34m\u001b[0m\u001b[0m\n\u001b[0;32m---> 25\u001b[0;31m \u001b[0;32mfrom\u001b[0m \u001b[0;34m.\u001b[0m\u001b[0mhtml5parser\u001b[0m \u001b[0;32mimport\u001b[0m \u001b[0mHTMLParser\u001b[0m\u001b[0;34m,\u001b[0m \u001b[0mparse\u001b[0m\u001b[0;34m,\u001b[0m \u001b[0mparseFragment\u001b[0m\u001b[0;34m\u001b[0m\u001b[0m\n\u001b[0m\u001b[1;32m     26\u001b[0m \u001b[0;32mfrom\u001b[0m \u001b[0;34m.\u001b[0m\u001b[0mtreebuilders\u001b[0m \u001b[0;32mimport\u001b[0m \u001b[0mgetTreeBuilder\u001b[0m\u001b[0;34m\u001b[0m\u001b[0m\n\u001b[1;32m     27\u001b[0m \u001b[0;32mfrom\u001b[0m \u001b[0;34m.\u001b[0m\u001b[0mtreewalkers\u001b[0m \u001b[0;32mimport\u001b[0m \u001b[0mgetTreeWalker\u001b[0m\u001b[0;34m\u001b[0m\u001b[0m\n",
      "\u001b[0;32m/home/swapnil/Development/qReader/venv/local/lib/python2.7/site-packages/html5lib/html5parser.py\u001b[0m in \u001b[0;36m<module>\u001b[0;34m()\u001b[0m\n\u001b[1;32m      1\u001b[0m \u001b[0;32mfrom\u001b[0m \u001b[0m__future__\u001b[0m \u001b[0;32mimport\u001b[0m \u001b[0mabsolute_import\u001b[0m\u001b[0;34m,\u001b[0m \u001b[0mdivision\u001b[0m\u001b[0;34m,\u001b[0m \u001b[0municode_literals\u001b[0m\u001b[0;34m\u001b[0m\u001b[0m\n\u001b[0;32m----> 2\u001b[0;31m \u001b[0;32mfrom\u001b[0m \u001b[0msix\u001b[0m \u001b[0;32mimport\u001b[0m \u001b[0mwith_metaclass\u001b[0m\u001b[0;34m,\u001b[0m \u001b[0mviewkeys\u001b[0m\u001b[0;34m\u001b[0m\u001b[0m\n\u001b[0m\u001b[1;32m      3\u001b[0m \u001b[0;34m\u001b[0m\u001b[0m\n\u001b[1;32m      4\u001b[0m \u001b[0;32mimport\u001b[0m \u001b[0mtypes\u001b[0m\u001b[0;34m\u001b[0m\u001b[0m\n\u001b[1;32m      5\u001b[0m \u001b[0;32mfrom\u001b[0m \u001b[0mcollections\u001b[0m \u001b[0;32mimport\u001b[0m \u001b[0mOrderedDict\u001b[0m\u001b[0;34m\u001b[0m\u001b[0m\n",
      "\u001b[0;31mImportError\u001b[0m: cannot import name viewkeys"
     ]
    }
   ],
   "source": [
    "txt1 = textacy.preprocess.replace_urls(txt1)\n",
    "txt1 = textacy.preprocess.replace_emails(txt1)\n",
    "txt1 = textacy.preprocess_text(txt1, lowercase=True, no_punct=True)"
   ]
  },
  {
   "cell_type": "code",
   "execution_count": 114,
   "metadata": {},
   "outputs": [],
   "source": [
    "doc1 = textacy.Doc(txt1, lang=u'en')"
   ]
  },
  {
   "cell_type": "code",
   "execution_count": 115,
   "metadata": {},
   "outputs": [
    {
     "data": {
      "text/plain": [
       "defaultdict(float,\n",
       "            {'AFRAID': 0.18222059750943403,\n",
       "             'AMUSED': 0.0991074739433962,\n",
       "             'ANGRY': 0.12722538890566035,\n",
       "             'ANNOYED': 0.0979675382692308,\n",
       "             'DONT_CARE': 0.09134906949056605,\n",
       "             'HAPPY': 0.10248973754716985,\n",
       "             'INSPIRED': 0.10514038488679246,\n",
       "             'SAD': 0.19634825343396226})"
      ]
     },
     "execution_count": 115,
     "metadata": {},
     "output_type": "execute_result"
    }
   ],
   "source": [
    "textacy.lexicon_methods.emotional_valence(doc1.tokens)"
   ]
  },
  {
   "cell_type": "code",
   "execution_count": 4,
   "metadata": {},
   "outputs": [],
   "source": [
    "html = u\"\"\"\n",
    "<html><body><div><div class=\"article-executive-summary is-hidden\">\\n\\t\\t\\t\\t\\t\\t<h4 class=\"text-gray-light mbn mt-large2\">Executive Summary</h4>\\n\\t\\t\\t\\t\\t\\t<p>As professionals around the world feel increasingly pressed for time, they’re giving up on things that matter to them. A recent HBR article noted that in surveys, most people “could name several activities, such as pursuing a hobby, that they’d like to have time for.” This is more significant than it may sound, because it isn’t just individuals who are missing out. When people don’t have time for hobbies, businesses pay a price. Hobbies can make employees substantially better at their jobs for three reasons: they reawaken your creativity, give you a fresh perspective, and bolster your confidence.</p>\\n\\n\\t\\t\\t\\t\\t</div>\\n\\t\\t\\t\\t<div class=\"article article-first-row\">\\n\\t\\t\\t\\t\\t\\t<div class=\"mbn pbn\"> \\n <figure>\\n  <img class=\"alignnone size-full wp-image-223624\" src=\"/resources/images/article_assets/2019/02/Feb19_07_682304925.jpg\" srcset=\"/resources/images/article_assets/2019/02/Feb19_07_682304925.jpg 1200w, /resources/images/article_assets/2019/02/Feb19_07_682304925-300x169.jpg 300w, /resources/images/article_assets/2019/02/Feb19_07_682304925-768x432.jpg 768w, /resources/images/article_assets/2019/02/Feb19_07_682304925-1024x576.jpg 1024w, /resources/images/article_assets/2019/02/Feb19_07_682304925-500x281.jpg 500w, /resources/images/article_assets/2019/02/Feb19_07_682304925-383x215.jpg 383w, /resources/images/article_assets/2019/02/Feb19_07_682304925-700x394.jpg 700w, /resources/images/article_assets/2019/02/Feb19_07_682304925-850x478.jpg 850w\" alt=\"\" sizes=\"(min-width: 48em) 55.7291667vw, 97.3924381vw\"/>\\n  <figcaption class=\"credit ptn mtn\">\\n   Tara Moore/Getty Images\\n  </figcaption>\\n </figure> \\n</div>\\n<p>As professionals around the world feel increasingly pressed for time, they’re giving up on things that matter to them. A recent HBR <a href=\"/cover-story/2019/01/time-for-happiness\">article</a> noted that in surveys, most people “could name several activities, such as pursuing a hobby, that they’d like to have time for.”</p>\\n<p>This is more significant than it may sound, because it isn’t just individuals who are missing out. When people don’t have time for hobbies, businesses pay a price. Hobbies can make workers substantially better at their jobs. I know this from personal experience. I’ve always <a href=\"https://officialgaetano.com/\">loved</a> playing the guitar and composing. But just like workers everywhere, I can fall into the trap of feeling that I have no time to engage in it. As head of demand generation for Nextiva, I have enough on my plate to keep me busy around the clock. I can easily fall into the trap of the “<a href=\"/2013/09/welcome-to-the-72-hour-work-we\">72-hour workweek</a>,” which takes into account time people spend connected to work on our phones outside of official work hours.</p>\\n<p>When I crash, there’s always the temptation to do something sedentary and mindless. It’s little surprise that watching TV is by far the most popular use of leisure time <a href=\"https://www.bls.gov/charts/american-time-use/activity-leisure-by-sex.htm\">in the U.S.</a> and tops the list elsewhere as well, including <a href=\"https://www.dw.com/en/tv-tops-germanys-most-popular-leisure-activities/a-45371410\">Germany</a> and <a href=\"https://www.statista.com/statistics/553674/free-time-activities-adult-participation-uk-england/\">England</a>.</p>\\n<p>But by spending time on music, I boost some of my most important workplace skills.</p>\\n<p><strong>Creativity.</strong> To stand out and compete in today’s crowded and constantly changing business environment, organizations need new, innovative ideas that will rise above the noise. I’m tasked with constantly looking for new ways to attract attention from potential buyers. But coming up with a fully original idea can be difficult when your mind is filled with targets, metrics, and deadlines.</p>\\n<p>A creative hobby pulls you out of all that. Whether you’re a musician, artist, writer, or cook, you often start with a blank canvas in your mind. You simply think: What will I create that will evoke the emotion I’m going for?</p>\\n<p>It’s no surprise that by giving yourself this mental space, and focusing on <em>feelings</em>, you can reawaken your creativity. Neuroscientists have <a href=\"/2015/12/how-to-free-your-innate-creativity\">found</a> that rational thought and emotions involve different parts of the brain. For the floodgates of creativity to open, both must be in play.</p>\\n<p><strong>Perspective.</strong> One of the trickiest tasks in the creative process is thinking through how someone else would experience your idea. But in doing creative hobbies, people think that way all the time. A potter imagines how the recipient of a vase would respond to it. A mystery novelist considers whether an unsuspecting reader will be surprised by a plot twist.</p>\\n<p>When I take a break from work to go make music, I reconnect with that perspective. I keep thinking about how someone hearing my song for the first time might respond. I do all I can to see (or hear) the world <a href=\"/2012/11/train-your-people-to-take-others-perspectives\">through someone else’s eyes</a> (or ears). Then, when I resume the work project, I take that mentality with me.</p>\\n<p><strong>Confidence. </strong>When I face a tough challenge at work and feel stymied, I can start to question whether I’ll ever figure out a successful solution. It’s easy to lose <a href=\"https://ideas.ted.com/david-kelley-on-the-need-for-creative-confidence/\">creative confidence</a>. But after an hour of shredding on the guitar, hitting notes perfectly, I’m feeling good. I can tell that my brain was craving that kind of satisfaction. And when I face that work project again, I bring the confidence with me.</p>\\n<p>It turns out people like me have been studied. In one study, researchers <a href=\"https://onlinelibrary.wiley.com/doi/full/10.1111/joop.12064\">found</a> that “creative activity was positively associated with recovery experiences (i.e., mastery, control, and relaxation) and performance‐related outcomes (i.e., job creativity and extra‐role behaviors).” In fact, they wrote, “Creative activity while away from work may be a leisure activity that provides employees essential resources to perform at a high level.”</p>\\n<p>So to my fellow professionals, I highly recommend taking some time to keep up your creative hobby. It doesn’t have to be long. A <a href=\"https://newsblog.drexel.edu/2016/09/16/study-just-45-minutes-of-art-making-improves-self-confidence/\">study</a> found that spending 45 minutes making art helps boost someone’s confidence and ability to complete tasks.</p>\\n<p>I also suggest you encourage your business to celebrate employees’ hobbies. Zappos <a href=\"https://www.skyword.com/contentstandard/creativity/4-ways-zappos-organizational-culture-inspires-creativity/\">puts employee artwork</a> up on its walls and encourages people to decorate their desks in whatever ways they wish. Some businesses\\xa0<a href=\"https://smallbusiness.chron.com/funny-corporate-talent-show-ideas-18482.html\">hold talent shows</a>. Even employees who may not have these kinds of talents should be encouraged to do something that <em>feels</em> creative and fun. Some CEOs spend time <a href=\"/2018/10/why-ceos-devote-so-much-time-to-their-hobbies\">on their own hobbies</a>, setting the right example.</p>\\n<p>And when you find a little time for a creative hobby break, make it guilt free. After all, when you do this, everyone stands to gain.</p>\\n\\t\\t\\t\\t\\t\\n\\t\\t\\t\\t</div>\\n\\t\\t\\t</div></body></html>\n",
    "\"\"\""
   ]
  },
  {
   "cell_type": "code",
   "execution_count": 23,
   "metadata": {},
   "outputs": [],
   "source": [
    "import pypandoc\n",
    "md = pypandoc.convert_text(html, 'md', format='html')\n",
    "md = clean_markdown(md)"
   ]
  },
  {
   "cell_type": "code",
   "execution_count": 10,
   "metadata": {
    "scrolled": false
   },
   "outputs": [
    {
     "ename": "ImportError",
     "evalue": "No module named html2text",
     "output_type": "error",
     "traceback": [
      "\u001b[0;31m---------------------------------------------------------------------------\u001b[0m",
      "\u001b[0;31mImportError\u001b[0m                               Traceback (most recent call last)",
      "\u001b[0;32m<ipython-input-10-a1a2d95fb5be>\u001b[0m in \u001b[0;36m<module>\u001b[0;34m()\u001b[0m\n\u001b[0;32m----> 1\u001b[0;31m \u001b[0;32mimport\u001b[0m \u001b[0mhtml2text\u001b[0m\u001b[0;34m\u001b[0m\u001b[0m\n\u001b[0m",
      "\u001b[0;31mImportError\u001b[0m: No module named html2text"
     ]
    }
   ],
   "source": [
    "import html2text"
   ]
  },
  {
   "cell_type": "code",
   "execution_count": 1,
   "metadata": {},
   "outputs": [],
   "source": [
    "import requests, re, htmlentitydefs\n",
    "\n",
    "def markdown(text):\n",
    "  for nuketagblock in ['title', 'head']:\n",
    "    text = noTagBlock(text, nuketagblock)\n",
    "  text = justBody(text)\n",
    "  text = noComments(text)\n",
    "  for nuketagblock in ['script', 'style', 'noscript', 'form',\n",
    "    'object', 'embed', 'select']:\n",
    "    text = noTagBlock(text, nuketagblock)\n",
    "  text = stripParams(text)\n",
    "  text = lowercaseTags(text)\n",
    "  text = listNuker(text)\n",
    "  for nuketag in ['div', 'span', 'img', 'a', 'b', 'i', 'param', 'table',\n",
    "    'td', 'tr', 'font', 'title', 'head', 'meta', 'strong', 'em', 'iframe']:\n",
    "    text = noTag(text, nuketag)\n",
    "  text = singleizer(text)\n",
    "  text = convert_html_entities(text)\n",
    "  text = addmarkdown(text)\n",
    "  text = just2LR(text)\n",
    "  \n",
    "  return text\n",
    "\n",
    "def getHTML(url):\n",
    "  try:\n",
    "    response = requests.get(url)\n",
    "  except:\n",
    "    return ''\n",
    "  return response.text\n",
    "\n",
    "def justBody(text):\n",
    "  pattern = r\"<\\s*body\\s*.*?>(?P<capture>.*)<\\s*/body\\s*>\"\n",
    "  pat = re.compile(pattern, re.IGNORECASE | re.DOTALL)\n",
    "  bodymat = pat.search(text)\n",
    "  if bodymat:\n",
    "    return bodymat.group('capture')\n",
    "  else:\n",
    "    return ''\n",
    "\n",
    "def addmarkdown(text):\n",
    "  text = text.replace('<p>', \"\\n\")\n",
    "  text = text.replace('</p>', \"\")\n",
    "  text = text.replace('<hr>', \"\\n---\\n\")\n",
    "  text = text.replace('<blockquote>', \"\\n> \")\n",
    "  text = text.replace('</blockquote>', \"\")\n",
    "  text = text.replace('<h1>', \"\\n# \")\n",
    "  text = text.replace('<h2>', \"\\n## \")\n",
    "  text = text.replace('<h3>', \"\\n### \")\n",
    "  text = text.replace('<h4>', \"\\n#### \")\n",
    "  text = text.replace('</h1>', \"\")\n",
    "  text = text.replace('</h2>', \"\")\n",
    "  text = text.replace('</h3>', \"\")\n",
    "  text = text.replace('</h4>', \"\")\n",
    "  text = text.strip()\n",
    "  return text\n",
    "\n",
    "def just2LR(text):\n",
    "  pattern = r\"\\n{2,}\"\n",
    "  pat = re.compile(pattern, re.IGNORECASE | re.DOTALL)\n",
    "  less = pat.sub(r'\\n\\n', text)\n",
    "  pattern = \" {2,}\"\n",
    "  pat = re.compile(pattern, re.IGNORECASE | re.DOTALL)\n",
    "  less = pat.sub(' ', less)\n",
    "  return less\n",
    "\n",
    "def lowercaseTags(text):\n",
    "  pattern = r\"<(/?[a-zA-Z0-9]+)>\"\n",
    "  pat = re.compile(pattern, re.IGNORECASE | re.DOTALL)\n",
    "  lowered = pat.sub(r'<\\1>'.lower(), text)\n",
    "  return lowered\n",
    "\n",
    "def stripParams(text):\n",
    "  pattern = r\"(<\\s*[a-zA-Z0-9]+).*?(?:>)\"\n",
    "  pat = re.compile(pattern, re.IGNORECASE | re.DOTALL)\n",
    "  nopram = pat.sub(r'\\1>', text)\n",
    "  return nopram\n",
    "\n",
    "def listNuker(text):\n",
    "  pattern = r\"<\\s*(ol|ul)\\s*.*?>.*?<\\s*/(ol|ul)\\s*>\"\n",
    "  pat = re.compile(pattern, re.IGNORECASE | re.DOTALL)\n",
    "  listless = pat.sub('', text)\n",
    "  pattern = r\"<\\s*li\\s*.*?>.*?<\\s*/li\\s*>\"\n",
    "  pat = re.compile(pattern, re.IGNORECASE | re.DOTALL)\n",
    "  listless = pat.sub('', listless)\n",
    "  pattern = r\"(<\\s*(li|ol|ul)\\s*.*?>)|(<\\s*/(li|ol|ul)\\s*>)\"\n",
    "  pat = re.compile(pattern, re.IGNORECASE | re.DOTALL)\n",
    "  listless = pat.sub('', listless)\n",
    "  return listless\n",
    "\n",
    "def noTag(text, tag):\n",
    "  pattern = r\"(<\\s*%s\\s*.*?>)|(<\\s*/%s\\s*>)\" % (tag, tag)\n",
    "  pat = re.compile(pattern, re.IGNORECASE | re.DOTALL)\n",
    "  tagless = pat.sub('', text)\n",
    "  return tagless\n",
    "\n",
    "def noTagBlock(text, tag):\n",
    "  pattern = r\"<\\s*%s\\s*.*?>.*?<\\s*/%s\\s*>\" % (tag, tag)\n",
    "  pat = re.compile(pattern, re.IGNORECASE | re.DOTALL)\n",
    "  byeblock = pat.sub('', text)\n",
    "  return byeblock\n",
    "\n",
    "def noComments(text):\n",
    "  pattern = r\"<!--.*?-->\"\n",
    "  pat = re.compile(pattern, re.IGNORECASE | re.DOTALL)\n",
    "  byeblock = pat.sub('', text)\n",
    "  return byeblock\n",
    "\n",
    "def singleizer(text):\n",
    "  pattern = r\"\\t|\\r\"\n",
    "  pat = re.compile(pattern, re.IGNORECASE | re.DOTALL)\n",
    "  singled = pat.sub('', text)\n",
    "  pattern = r\"^.{,30}$\"\n",
    "  pat = re.compile(pattern, re.IGNORECASE | re.DOTALL | re.MULTILINE)\n",
    "  singled = pat.sub('', singled)\n",
    "  pattern = r\"\\n{2,}\"\n",
    "  pat = re.compile(pattern, re.IGNORECASE | re.DOTALL)\n",
    "  singled = pat.sub(r'\\n', singled)\n",
    "  pattern = r\"\\n.{,10}\\n\"\n",
    "  pat = re.compile(pattern, re.IGNORECASE | re.DOTALL)\n",
    "  singled = pat.sub(r'\\n', singled)\n",
    "  pattern = r\"^\\n|\\n$\"\n",
    "  pat = re.compile(pattern, re.IGNORECASE | re.DOTALL)\n",
    "  singled = pat.sub('', singled)\n",
    "  return singled\n",
    "\n",
    "def convert_html_entities(s):\n",
    "  matches = re.findall(\"&#\\d+;\", s)\n",
    "  if len(matches) > 0:\n",
    "    hits = set(matches)\n",
    "    for hit in hits:\n",
    "      name = hit[2:-1]\n",
    "      try:\n",
    "        entnum = int(name)\n",
    "        s = s.replace(hit, unichr(entnum))\n",
    "      except ValueError:\n",
    "        pass\n",
    "\n",
    "  matches = re.findall(\"&#[xX][0-9a-fA-F]+;\", s)\n",
    "  if len(matches) > 0:\n",
    "    hits = set(matches)\n",
    "    for hit in hits:\n",
    "      hex = hit[3:-1]\n",
    "      try:\n",
    "        entnum = int(hex, 16)\n",
    "        s = s.replace(hit, unichr(entnum))\n",
    "      except ValueError:\n",
    "        pass\n",
    "\n",
    "  matches = re.findall(\"&\\w+;\", s)\n",
    "  hits = set(matches)\n",
    "  amp = \"&\"\n",
    "  if amp in hits:\n",
    "    hits.remove(amp)\n",
    "  for hit in hits:\n",
    "    name = hit[1:-1]\n",
    "    if htmlentitydefs.name2codepoint.has_key(name):\n",
    "      s = s.replace(hit, unichr(htmlentitydefs.name2codepoint[name]))\n",
    "  s = s.replace(amp, \"&\")\n",
    "  return s"
   ]
  },
  {
   "cell_type": "code",
   "execution_count": 11,
   "metadata": {},
   "outputs": [],
   "source": [
    "md = markdown(html)"
   ]
  },
  {
   "cell_type": "code",
   "execution_count": 12,
   "metadata": {
    "scrolled": false
   },
   "outputs": [
    {
     "name": "stdout",
     "output_type": "stream",
     "text": [
      "As professionals around the world feel increasingly pressed for time, they’re giving up on things that matter to them. A recent HBR article noted that in surveys, most people “could name several activities, such as pursuing a hobby, that they’d like to have time for.” This is more significant than it may sound, because it isn’t just individuals who are missing out. When people don’t have time for hobbies, businesses pay a price. Hobbies can make employees substantially better at their jobs for three reasons: they reawaken your creativity, give you a fresh perspective, and bolster your confidence.\n",
      "\n",
      "As professionals around the world feel increasingly pressed for time, they’re giving up on things that matter to them. A recent HBR article noted that in surveys, most people “could name several activities, such as pursuing a hobby, that they’d like to have time for.”\n",
      "\n",
      "This is more significant than it may sound, because it isn’t just individuals who are missing out. When people don’t have time for hobbies, businesses pay a price. Hobbies can make workers substantially better at their jobs. I know this from personal experience. I’ve always loved playing the guitar and composing. But just like workers everywhere, I can fall into the trap of feeling that I have no time to engage in it. As head of demand generation for Nextiva, I have enough on my plate to keep me busy around the clock. I can easily fall into the trap of the “72-hour workweek,” which takes into account time people spend connected to work on our phones outside of official work hours.\n",
      "\n",
      "When I crash, there’s always the temptation to do something sedentary and mindless. It’s little surprise that watching TV is by far the most popular use of leisure time in the U.S. and tops the list elsewhere as well, including Germany and England.\n",
      "\n",
      "But by spending time on music, I boost some of my most important workplace skills.\n",
      "\n",
      "Creativity. To stand out and compete in today’s crowded and constantly changing business environment, organizations need new, innovative ideas that will rise above the noise. I’m tasked with constantly looking for new ways to attract attention from potential buyers. But coming up with a fully original idea can be difficult when your mind is filled with targets, metrics, and deadlines.\n",
      "\n",
      "A creative hobby pulls you out of all that. Whether you’re a musician, artist, writer, or cook, you often start with a blank canvas in your mind. You simply think: What will I create that will evoke the emotion I’m going for?\n",
      "\n",
      "It’s no surprise that by giving yourself this mental space, and focusing on feelings, you can reawaken your creativity. Neuroscientists have found that rational thought and emotions involve different parts of the brain. For the floodgates of creativity to open, both must be in play.\n",
      "\n",
      "Perspective. One of the trickiest tasks in the creative process is thinking through how someone else would experience your idea. But in doing creative hobbies, people think that way all the time. A potter imagines how the recipient of a vase would respond to it. A mystery novelist considers whether an unsuspecting reader will be surprised by a plot twist.\n",
      "\n",
      "When I take a break from work to go make music, I reconnect with that perspective. I keep thinking about how someone hearing my song for the first time might respond. I do all I can to see (or hear) the world through someone else’s eyes (or ears). Then, when I resume the work project, I take that mentality with me.\n",
      "\n",
      "Confidence. When I face a tough challenge at work and feel stymied, I can start to question whether I’ll ever figure out a successful solution. It’s easy to lose creative confidence. But after an hour of shredding on the guitar, hitting notes perfectly, I’m feeling good. I can tell that my brain was craving that kind of satisfaction. And when I face that work project again, I bring the confidence with me.\n",
      "\n",
      "It turns out people like me have been studied. In one study, researchers found that “creative activity was positively associated with recovery experiences (i.e., mastery, control, and relaxation) and performance‐related outcomes (i.e., job creativity and extra‐role behaviors).” In fact, they wrote, “Creative activity while away from work may be a leisure activity that provides employees essential resources to perform at a high level.”\n",
      "\n",
      "So to my fellow professionals, I highly recommend taking some time to keep up your creative hobby. It doesn’t have to be long. A study found that spending 45 minutes making art helps boost someone’s confidence and ability to complete tasks.\n",
      "\n",
      "I also suggest you encourage your business to celebrate employees’ hobbies. Zappos puts employee artwork up on its walls and encourages people to decorate their desks in whatever ways they wish. Some businesses hold talent shows. Even employees who may not have these kinds of talents should be encouraged to do something that feels creative and fun. Some CEOs spend time on their own hobbies, setting the right example.\n",
      "\n",
      "And when you find a little time for a creative hobby break, make it guilt free. After all, when you do this, everyone stands to gain.\n"
     ]
    }
   ],
   "source": [
    "print(md)"
   ]
  }
 ],
 "metadata": {
  "kernelspec": {
   "display_name": "Python 2",
   "language": "python",
   "name": "python2"
  },
  "language_info": {
   "codemirror_mode": {
    "name": "ipython",
    "version": 2
   },
   "file_extension": ".py",
   "mimetype": "text/x-python",
   "name": "python",
   "nbconvert_exporter": "python",
   "pygments_lexer": "ipython2",
   "version": "2.7.15rc1"
  }
 },
 "nbformat": 4,
 "nbformat_minor": 2
}
